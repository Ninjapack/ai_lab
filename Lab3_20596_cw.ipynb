{
  "cells": [
    {
      "cell_type": "markdown",
      "metadata": {
        "id": "view-in-github",
        "colab_type": "text"
      },
      "source": [
        "<a href=\"https://colab.research.google.com/github/Ninjapack/ai_lab/blob/main/Lab3_20596_cw.ipynb\" target=\"_parent\"><img src=\"https://colab.research.google.com/assets/colab-badge.svg\" alt=\"Open In Colab\"/></a>"
      ]
    },
    {
      "cell_type": "code",
      "execution_count": null,
      "metadata": {
        "colab": {
          "background_save": true
        },
        "id": "KqxWU_scKwUL"
      },
      "outputs": [],
      "source": [
        "import numpy as np\n",
        "import tensorflow as tf\n",
        "import matplotlib.pyplot as plt\n",
        "import tensorflow_datasets as tfds"
      ]
    },
    {
      "cell_type": "code",
      "execution_count": null,
      "metadata": {
        "id": "TWj4-F_YM-mF"
      },
      "outputs": [],
      "source": [
        "\n",
        "mnist_dataset, mnist_info = tfds.load(name='mnist', with_info=True, as_supervised=True)\n",
        "mnist_train, mnist_test = mnist_dataset['train'], mnist_dataset['test']\n",
        "\n",
        "\n",
        "num_validation_samples = 0.1 * mnist_info.splits['train'].num_examples\n",
        "num_validation_samples = tf.cast(num_validation_samples, tf.int64)\n",
        "num_test_samples = mnist_info.splits['test'].num_examples\n",
        "num_test_samples = tf.cast(num_test_samples, tf.int64)\n",
        "\n",
        "\n",
        "def scale(image, label):\n",
        "    image = tf.cast(image, tf.float32)\n",
        "    image /= 255.\n",
        "    return image, label\n",
        "\n",
        "\n",
        "scaled_train_and_validation_data = mnist_train.map(scale)\n",
        "test_data = mnist_test.map(scale)\n",
        "\n",
        "\n",
        "BUFFER_SIZE = 10000\n",
        "shuffled_train_and_validation_data = scaled_train_and_validation_data.shuffle(BUFFER_SIZE)\n",
        "\n",
        "\n",
        "validation_data = shuffled_train_and_validation_data.take(num_validation_samples)\n",
        "train_data = shuffled_train_and_validation_data.skip(num_validation_samples)\n",
        "\n",
        "\n",
        "BATCH_SIZE = 100\n",
        "train_data = train_data.batch(BATCH_SIZE)\n",
        "validation_data = validation_data.batch(num_validation_samples)\n",
        "test_data = test_data.batch(num_test_samples)\n",
        "\n",
        "\n",
        "validation_inputs, validation_targets = next(iter(validation_data))"
      ]
    },
    {
      "cell_type": "code",
      "execution_count": 7,
      "metadata": {
        "id": "n5TTVES8NIJD"
      },
      "outputs": [],
      "source": [
        "input_size = 784\n",
        "output_size = 10\n",
        "hidden_layer_size = 100\n",
        "\n",
        "model = tf.keras.Sequential([\n",
        "    tf.keras.layers.Flatten(input_shape=(28, 28, 1)),\n",
        "    tf.keras.layers.Dense(hidden_layer_size, activation='relu'),\n",
        "    tf.keras.layers.Dense(hidden_layer_size, activation='relu'),\n",
        "    tf.keras.layers.Dense(output_size, activation='softmax')\n",
        "])\n",
        "\n",
        "model.compile(optimizer='adam', loss='sparse_categorical_crossentropy', metrics=['accuracy'])"
      ]
    },
    {
      "cell_type": "code",
      "execution_count": 8,
      "metadata": {
        "colab": {
          "base_uri": "https://localhost:8080/"
        },
        "id": "tCjMFFylNRna",
        "outputId": "23791cf1-7507-4b9a-a3fa-c8ca9f10a773"
      },
      "outputs": [
        {
          "output_type": "stream",
          "name": "stdout",
          "text": [
            "Epoch 1/10\n",
            "540/540 - 6s - 11ms/step - accuracy: 0.9026 - loss: 0.3376 - val_accuracy: 0.9477 - val_loss: 0.1792\n",
            "Epoch 2/10\n",
            "540/540 - 4s - 8ms/step - accuracy: 0.9581 - loss: 0.1388 - val_accuracy: 0.9565 - val_loss: 0.1345\n",
            "Epoch 3/10\n",
            "540/540 - 5s - 10ms/step - accuracy: 0.9705 - loss: 0.0976 - val_accuracy: 0.9718 - val_loss: 0.0939\n",
            "Epoch 4/10\n",
            "540/540 - 4s - 7ms/step - accuracy: 0.9776 - loss: 0.0734 - val_accuracy: 0.9760 - val_loss: 0.0814\n",
            "Epoch 5/10\n",
            "540/540 - 4s - 8ms/step - accuracy: 0.9810 - loss: 0.0602 - val_accuracy: 0.9802 - val_loss: 0.0651\n",
            "Epoch 6/10\n",
            "540/540 - 6s - 12ms/step - accuracy: 0.9854 - loss: 0.0469 - val_accuracy: 0.9808 - val_loss: 0.0617\n",
            "Epoch 7/10\n",
            "540/540 - 4s - 7ms/step - accuracy: 0.9871 - loss: 0.0403 - val_accuracy: 0.9833 - val_loss: 0.0573\n",
            "Epoch 8/10\n",
            "540/540 - 5s - 9ms/step - accuracy: 0.9893 - loss: 0.0330 - val_accuracy: 0.9872 - val_loss: 0.0446\n",
            "Epoch 9/10\n",
            "540/540 - 8s - 14ms/step - accuracy: 0.9909 - loss: 0.0296 - val_accuracy: 0.9888 - val_loss: 0.0351\n",
            "Epoch 10/10\n",
            "540/540 - 9s - 16ms/step - accuracy: 0.9923 - loss: 0.0245 - val_accuracy: 0.9903 - val_loss: 0.0310\n"
          ]
        }
      ],
      "source": [
        "NUM_EPOCHS = 10\n",
        "early_stopping = tf.keras.callbacks.EarlyStopping(patience=2)\n",
        "\n",
        "history = model.fit(\n",
        "    train_data,\n",
        "    epochs=NUM_EPOCHS,\n",
        "    callbacks=[early_stopping],\n",
        "    validation_data=(validation_inputs, validation_targets),\n",
        "    verbose=2\n",
        ")"
      ]
    },
    {
      "cell_type": "code",
      "execution_count": null,
      "metadata": {
        "colab": {
          "base_uri": "https://localhost:8080/",
          "height": 469
        },
        "id": "YeE2LW9mNiES",
        "outputId": "55e5e470-c18f-4ad9-cfe2-1e3133eac491"
      },
      "outputs": [
        {
          "name": "stdout",
          "output_type": "stream",
          "text": [
            "\u001b[1m1/1\u001b[0m \u001b[32m━━━━━━━━━━━━━━━━━━━━\u001b[0m\u001b[37m\u001b[0m \u001b[1m0s\u001b[0m 34ms/step\n"
          ]
        },
        {
          "data": {
            "image/png": "[encoded data removed]",
            "text/plain": [
              "<Figure size 640x480 with 1 Axes>"
            ]
          },
          "metadata": {},
          "output_type": "display_data"
        }
      ],
      "source": [
        "\n",
        "for test_images, test_labels in test_data.take(1):\n",
        "    sample_image = test_images[0].numpy()\n",
        "    sample_label = test_labels[0].numpy()\n",
        "\n",
        "\n",
        "predictions = model.predict(np.expand_dims(sample_image, axis=0))\n",
        "predicted_label = np.argmax(predictions)\n",
        "\n",
        "\n",
        "plt.imshow(sample_image.reshape(28, 28), cmap='gray')\n",
        "plt.title(f'True: {sample_label}, Predicted: {predicted_label}')\n",
        "plt.show()"
      ]
    },
    {
      "cell_type": "code",
      "execution_count": 9,
      "metadata": {
        "colab": {
          "base_uri": "https://localhost:8080/"
        },
        "id": "XbUw06ziOQoZ",
        "outputId": "4f0183cc-542a-4399-966d-e77729f99032"
      },
      "outputs": [
        {
          "output_type": "stream",
          "name": "stdout",
          "text": [
            "\u001b[1m1/1\u001b[0m \u001b[32m━━━━━━━━━━━━━━━━━━━━\u001b[0m\u001b[37m\u001b[0m \u001b[1m0s\u001b[0m 304ms/step - accuracy: 0.9778 - loss: 0.0820\n",
            "Test accuracy: 97.78%\n"
          ]
        }
      ],
      "source": [
        "test_loss, test_accuracy = model.evaluate(test_data)\n",
        "print(f'Test accuracy: {test_accuracy*100:.2f}%')"
      ]
    }
  ],
  "metadata": {
    "colab": {
      "provenance": [],
      "authorship_tag": "ABX9TyOVFPoTq5t4wHr4eQWe329A",
      "include_colab_link": true
    },
    "kernelspec": {
      "display_name": "Python 3",
      "name": "python3"
    },
    "language_info": {
      "name": "python"
    }
  },
  "nbformat": 4,
  "nbformat_minor": 0
}